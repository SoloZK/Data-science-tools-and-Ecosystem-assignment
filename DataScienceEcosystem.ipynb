{
 "cells": [
  {
   "cell_type": "markdown",
   "id": "6066a933",
   "metadata": {},
   "source": [
    "# Data Science Tools and Ecosystem"
   ]
  },
  {
   "cell_type": "markdown",
   "id": "1678f70d",
   "metadata": {},
   "source": [
    "### In this Notebook, Data Science tools and Ecosystem are summerized."
   ]
  },
  {
   "cell_type": "markdown",
   "id": "dea0becc",
   "metadata": {},
   "source": [
    "### Some of the popular languages that data scientists use are.\n",
    "1. Python\n",
    "2. R\n",
    "3. SQL\n",
    "4. Matlab\n",
    "5. Scala"
   ]
  },
  {
   "cell_type": "markdown",
   "id": "4734498f",
   "metadata": {},
   "source": [
    "**Objectives:**\n",
    "- Explore tools for data science\n",
    "- Identify different types of libraries\n",
    "- Languages to work with data\n",
    "- Github and gitlab \n"
   ]
  },
  {
   "cell_type": "markdown",
   "id": "386c8087",
   "metadata": {},
   "source": [
    "### Some of the commonly used libraries used by Data Scientists include:\n",
    "1. Pandas\n",
    "2.TensorFlow\n",
    "3.ggplot2\n",
    "4.matlibplot\n",
    "5.Pytorch"
   ]
  },
  {
   "cell_type": "markdown",
   "id": "32a330c0",
   "metadata": {},
   "source": [
    "|Data Science Tools|\n",
    "-------------------\n",
    "|Python|\n",
    "|Jupyter Notebook|\n",
    "|R|\n",
    "|SQL|\n"
   ]
  },
  {
   "cell_type": "markdown",
   "id": "0bc8e7c8",
   "metadata": {},
   "source": [
    "### Below are a few examples of evaluating arithmetic expressions in Python\n",
    "\n"
   ]
  },
  {
   "cell_type": "code",
   "execution_count": 1,
   "id": "39b0b7cd",
   "metadata": {},
   "outputs": [
    {
     "data": {
      "text/plain": [
       "17"
      ]
     },
     "execution_count": 1,
     "metadata": {},
     "output_type": "execute_result"
    }
   ],
   "source": [
    "# simple arithmetic expression \n",
    "(3*4)+5"
   ]
  },
  {
   "cell_type": "code",
   "execution_count": 2,
   "id": "5a23d93e",
   "metadata": {},
   "outputs": [
    {
     "data": {
      "text/plain": [
       "3.3333333333333335"
      ]
     },
     "execution_count": 2,
     "metadata": {},
     "output_type": "execute_result"
    }
   ],
   "source": [
    "# convert minutes to hours \n",
    "200/60"
   ]
  },
  {
   "cell_type": "markdown",
   "id": "bd5ee035",
   "metadata": {},
   "source": [
    "## Author \n",
    "Solomon Mengesha Kebede"
   ]
  },
  {
   "cell_type": "code",
   "execution_count": null,
   "id": "ffa04fc6",
   "metadata": {},
   "outputs": [],
   "source": []
  }
 ],
 "metadata": {
  "kernelspec": {
   "display_name": "Python 3 (ipykernel)",
   "language": "python",
   "name": "python3"
  },
  "language_info": {
   "codemirror_mode": {
    "name": "ipython",
    "version": 3
   },
   "file_extension": ".py",
   "mimetype": "text/x-python",
   "name": "python",
   "nbconvert_exporter": "python",
   "pygments_lexer": "ipython3",
   "version": "3.9.12"
  }
 },
 "nbformat": 4,
 "nbformat_minor": 5
}
